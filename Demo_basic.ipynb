{
 "cells": [
  {
   "cell_type": "markdown",
   "metadata": {},
   "source": [
    "# Comprehend API  invoke  API Demo"
   ]
  },
  {
   "cell_type": "markdown",
   "metadata": {},
   "source": [
    "## This notebook shows how to use Comprehend Sentiment API"
   ]
  },
  {
   "cell_type": "code",
   "execution_count": null,
   "metadata": {},
   "outputs": [],
   "source": [
    "! pip install boto3==1.7.62"
   ]
  },
  {
   "cell_type": "markdown",
   "metadata": {},
   "source": [
    "Configure boto3 client for comprehend"
   ]
  },
  {
   "cell_type": "code",
   "execution_count": null,
   "metadata": {},
   "outputs": [],
   "source": [
    "import boto3\n",
    "import pprint\n",
    "client = boto3.client('comprehend')\n"
   ]
  },
  {
   "cell_type": "markdown",
   "metadata": {},
   "source": [
    "Test comprehend sample api"
   ]
  },
  {
   "cell_type": "code",
   "execution_count": null,
   "metadata": {},
   "outputs": [],
   "source": [
    "text=\"This is an amazing place\"\n",
    "language_code ='en' # Language code for English"
   ]
  },
  {
   "cell_type": "code",
   "execution_count": null,
   "metadata": {},
   "outputs": [],
   "source": [
    "response = client.detect_sentiment(Text=text, LanguageCode=language_code)\n",
    "sentiment = response[\"Sentiment\"]\n",
    "confidence_score = response[\"SentimentScore\"][sentiment.title()]\n",
    "\n",
    "print( \"The sentiment for \\\" {} \\\" is: {}, with score {}\".format(text, sentiment, confidence_score))"
   ]
  },
  {
   "cell_type": "markdown",
   "metadata": {},
   "source": [
    "Now lets test the batch api"
   ]
  },
  {
   "cell_type": "code",
   "execution_count": null,
   "metadata": {},
   "outputs": [],
   "source": [
    "list_of_doc =[\n",
    "     \"simplistic , silly and tedious\" \n",
    ", \"it's so laddish and juvenile , only teenage boys could possibly find it funny .\"\n",
    ", \"exploitative and largely devoid of the depth or sophistication that would make watching such a graphic treatment of the crimes bearable .\"\n",
    ", \"perhaps no picture ever made has more literally showed that the road to hell is paved with good intentions .\"\n",
    ", \"steers turns in a snappy screenplay that curls at the edges ; it's so clever you want to hate it . but he somehow pulls it off .\"\n",
    " ]"
   ]
  },
  {
   "cell_type": "code",
   "execution_count": null,
   "metadata": {},
   "outputs": [],
   "source": [
    "response = client.batch_detect_sentiment(TextList=list_of_doc, LanguageCode=language_code)\n",
    "pp = pprint.PrettyPrinter(indent=4)\n",
    "pp.pprint(response)\n"
   ]
  }
 ],
 "metadata": {
  "kernelspec": {
   "display_name": "Python 3",
   "language": "python",
   "name": "python3"
  },
  "language_info": {
   "codemirror_mode": {
    "name": "ipython",
    "version": 3
   },
   "file_extension": ".py",
   "mimetype": "text/x-python",
   "name": "python",
   "nbconvert_exporter": "python",
   "pygments_lexer": "ipython3",
   "version": "3.6.6"
  }
 },
 "nbformat": 4,
 "nbformat_minor": 1
}
