{
 "cells": [
  {
   "cell_type": "markdown",
   "metadata": {},
   "source": [
    "# Comprehend Advanced Demo - performance test"
   ]
  },
  {
   "cell_type": "markdown",
   "metadata": {},
   "source": [
    "### This notebook shows how to use Comprehend Sentiment API in batch mode and the use of python multithreading"
   ]
  },
  {
   "cell_type": "code",
   "execution_count": null,
   "metadata": {},
   "outputs": [],
   "source": [
    "! pip install -r source/requirements.txt"
   ]
  },
  {
   "cell_type": "markdown",
   "metadata": {},
   "source": [
    "Download public movies dataset"
   ]
  },
  {
   "cell_type": "code",
   "execution_count": null,
   "metadata": {},
   "outputs": [],
   "source": [
    "! wget http://www.cs.cornell.edu/people/pabo/movie-review-data/rt-polaritydata.tar.gz"
   ]
  },
  {
   "cell_type": "code",
   "execution_count": null,
   "metadata": {},
   "outputs": [],
   "source": [
    "! tar -xf \"rt-polaritydata.tar.gz\" \n",
    "! ls rt-polaritydata"
   ]
  },
  {
   "cell_type": "raw",
   "metadata": {},
   "source": [
    "Explore the dataset"
   ]
  },
  {
   "cell_type": "code",
   "execution_count": null,
   "metadata": {},
   "outputs": [],
   "source": [
    "print(\"Example of negative sentences\\n--\\n\")\n",
    "! head rt-polaritydata/rt-polarity.neg\n",
    "print(\"\\n---Total sentences sentences--\\n\")\n",
    "! wc -l  rt-polaritydata/rt-polarity.neg\n",
    "\n"
   ]
  },
  {
   "cell_type": "code",
   "execution_count": null,
   "metadata": {},
   "outputs": [],
   "source": [
    "print(\"Example of positive sentences\\n--\\n\")\n",
    "! head rt-polaritydata/rt-polarity.pos\n",
    "print(\"\\n---Total sentences sentences--\\n\")\n",
    "! wc -l  rt-polaritydata/rt-polarity.pos\n"
   ]
  },
  {
   "cell_type": "code",
   "execution_count": null,
   "metadata": {},
   "outputs": [],
   "source": [
    "! head -100 rt-polaritydata/rt-polarity.pos > rt-polaritydata/rt-polarity.pos_100.txt"
   ]
  },
  {
   "cell_type": "code",
   "execution_count": null,
   "metadata": {},
   "outputs": [],
   "source": [
    "import sys\n",
    "sys.path.append(\"./source\")\n",
    "from source.demo import run_demo, MODE_BATCH"
   ]
  },
  {
   "cell_type": "markdown",
   "metadata": {},
   "source": [
    "Test the performance and the impact of increasing the number of threads.  On a single thread, roughly takes 1min 30 sec on a i7 processor"
   ]
  },
  {
   "cell_type": "code",
   "execution_count": null,
   "metadata": {},
   "outputs": [],
   "source": [
    "\n",
    "%%timeit -n1 -r1\n",
    "\n",
    "run_demo(MODE_BATCH, \"rt-polaritydata/rt-polarity.pos\", outfile = \"/tmp/sentiment.csv\", max_threads=1, encoding=\"latin\")"
   ]
  }
 ],
 "metadata": {
  "kernelspec": {
   "display_name": "Python 3",
   "language": "python",
   "name": "python3"
  },
  "language_info": {
   "codemirror_mode": {
    "name": "ipython",
    "version": 3
   },
   "file_extension": ".py",
   "mimetype": "text/x-python",
   "name": "python",
   "nbconvert_exporter": "python",
   "pygments_lexer": "ipython3",
   "version": "3.6.6"
  }
 },
 "nbformat": 4,
 "nbformat_minor": 1
}
